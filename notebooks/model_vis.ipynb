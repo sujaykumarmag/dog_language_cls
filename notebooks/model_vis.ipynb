{
 "cells": [
  {
   "cell_type": "code",
   "execution_count": 1,
   "metadata": {},
   "outputs": [
    {
     "name": "stdout",
     "output_type": "stream",
     "text": [
      "Collecting netron\n",
      "  Downloading netron-7.8.3-py3-none-any.whl.metadata (1.4 kB)\n",
      "Downloading netron-7.8.3-py3-none-any.whl (1.7 MB)\n",
      "\u001b[2K   \u001b[90m━━━━━━━━━━━━━━━━━━━━━━━━━━━━━━━━━━━━━━━━\u001b[0m \u001b[32m1.7/1.7 MB\u001b[0m \u001b[31m23.9 MB/s\u001b[0m eta \u001b[36m0:00:00\u001b[0m00:01\u001b[0m00:01\u001b[0m\n",
      "\u001b[?25hInstalling collected packages: netron\n",
      "Successfully installed netron-7.8.3\n"
     ]
    }
   ],
   "source": [
    "!pip install netron"
   ]
  },
  {
   "cell_type": "code",
   "execution_count": 3,
   "metadata": {},
   "outputs": [
    {
     "name": "stdout",
     "output_type": "stream",
     "text": [
      "Serving '../results/model.h5' at http://localhost:8080\n"
     ]
    },
    {
     "data": {
      "text/plain": [
       "('localhost', 8080)"
      ]
     },
     "execution_count": 3,
     "metadata": {},
     "output_type": "execute_result"
    }
   ],
   "source": [
    "import netron\n",
    "netron.start('../results/model.h5')"
   ]
  },
  {
   "cell_type": "code",
   "execution_count": 4,
   "metadata": {},
   "outputs": [
    {
     "name": "stdout",
     "output_type": "stream",
     "text": [
      "Collecting kapre\n",
      "  Downloading kapre-0.3.7.tar.gz (26 kB)\n",
      "  Installing build dependencies ... \u001b[?25ldone\n",
      "\u001b[?25h  Getting requirements to build wheel ... \u001b[?25ldone\n",
      "\u001b[?25h  Preparing metadata (pyproject.toml) ... \u001b[?25ldone\n",
      "\u001b[?25hRequirement already satisfied: numpy>=1.18.5 in /Users/sujaykumar/miniconda3/envs/tensorflow/lib/python3.10/site-packages (from kapre) (1.24.3)\n",
      "Requirement already satisfied: librosa>=0.7.2 in /Users/sujaykumar/miniconda3/envs/tensorflow/lib/python3.10/site-packages (from kapre) (0.10.1)\n",
      "Requirement already satisfied: tensorflow>=2.0.0 in /Users/sujaykumar/miniconda3/envs/tensorflow/lib/python3.10/site-packages (from kapre) (2.16.1)\n",
      "Requirement already satisfied: audioread>=2.1.9 in /Users/sujaykumar/miniconda3/envs/tensorflow/lib/python3.10/site-packages (from librosa>=0.7.2->kapre) (3.0.1)\n",
      "Requirement already satisfied: scipy>=1.2.0 in /Users/sujaykumar/miniconda3/envs/tensorflow/lib/python3.10/site-packages (from librosa>=0.7.2->kapre) (1.11.3)\n",
      "Requirement already satisfied: scikit-learn>=0.20.0 in /Users/sujaykumar/miniconda3/envs/tensorflow/lib/python3.10/site-packages (from librosa>=0.7.2->kapre) (1.3.2)\n",
      "Requirement already satisfied: joblib>=0.14 in /Users/sujaykumar/miniconda3/envs/tensorflow/lib/python3.10/site-packages (from librosa>=0.7.2->kapre) (1.3.2)\n",
      "Requirement already satisfied: decorator>=4.3.0 in /Users/sujaykumar/miniconda3/envs/tensorflow/lib/python3.10/site-packages (from librosa>=0.7.2->kapre) (5.1.1)\n",
      "Requirement already satisfied: numba>=0.51.0 in /Users/sujaykumar/miniconda3/envs/tensorflow/lib/python3.10/site-packages (from librosa>=0.7.2->kapre) (0.58.1)\n",
      "Requirement already satisfied: soundfile>=0.12.1 in /Users/sujaykumar/miniconda3/envs/tensorflow/lib/python3.10/site-packages (from librosa>=0.7.2->kapre) (0.12.1)\n",
      "Requirement already satisfied: pooch>=1.0 in /Users/sujaykumar/miniconda3/envs/tensorflow/lib/python3.10/site-packages (from librosa>=0.7.2->kapre) (1.8.0)\n",
      "Requirement already satisfied: soxr>=0.3.2 in /Users/sujaykumar/miniconda3/envs/tensorflow/lib/python3.10/site-packages (from librosa>=0.7.2->kapre) (0.3.7)\n",
      "Requirement already satisfied: typing-extensions>=4.1.1 in /Users/sujaykumar/miniconda3/envs/tensorflow/lib/python3.10/site-packages (from librosa>=0.7.2->kapre) (4.9.0)\n",
      "Requirement already satisfied: lazy-loader>=0.1 in /Users/sujaykumar/miniconda3/envs/tensorflow/lib/python3.10/site-packages (from librosa>=0.7.2->kapre) (0.3)\n",
      "Requirement already satisfied: msgpack>=1.0 in /Users/sujaykumar/miniconda3/envs/tensorflow/lib/python3.10/site-packages (from librosa>=0.7.2->kapre) (1.0.7)\n",
      "Requirement already satisfied: absl-py>=1.0.0 in /Users/sujaykumar/miniconda3/envs/tensorflow/lib/python3.10/site-packages (from tensorflow>=2.0.0->kapre) (1.4.0)\n",
      "Requirement already satisfied: astunparse>=1.6.0 in /Users/sujaykumar/miniconda3/envs/tensorflow/lib/python3.10/site-packages (from tensorflow>=2.0.0->kapre) (1.6.3)\n",
      "Requirement already satisfied: flatbuffers>=23.5.26 in /Users/sujaykumar/miniconda3/envs/tensorflow/lib/python3.10/site-packages (from tensorflow>=2.0.0->kapre) (23.5.26)\n",
      "Requirement already satisfied: gast!=0.5.0,!=0.5.1,!=0.5.2,>=0.2.1 in /Users/sujaykumar/miniconda3/envs/tensorflow/lib/python3.10/site-packages (from tensorflow>=2.0.0->kapre) (0.4.0)\n",
      "Requirement already satisfied: google-pasta>=0.1.1 in /Users/sujaykumar/miniconda3/envs/tensorflow/lib/python3.10/site-packages (from tensorflow>=2.0.0->kapre) (0.2.0)\n",
      "Requirement already satisfied: h5py>=3.10.0 in /Users/sujaykumar/miniconda3/envs/tensorflow/lib/python3.10/site-packages (from tensorflow>=2.0.0->kapre) (3.10.0)\n",
      "Requirement already satisfied: libclang>=13.0.0 in /Users/sujaykumar/miniconda3/envs/tensorflow/lib/python3.10/site-packages (from tensorflow>=2.0.0->kapre) (16.0.6)\n",
      "Requirement already satisfied: ml-dtypes~=0.3.1 in /Users/sujaykumar/miniconda3/envs/tensorflow/lib/python3.10/site-packages (from tensorflow>=2.0.0->kapre) (0.3.2)\n",
      "Requirement already satisfied: opt-einsum>=2.3.2 in /Users/sujaykumar/miniconda3/envs/tensorflow/lib/python3.10/site-packages (from tensorflow>=2.0.0->kapre) (3.3.0)\n",
      "Requirement already satisfied: packaging in /Users/sujaykumar/miniconda3/envs/tensorflow/lib/python3.10/site-packages (from tensorflow>=2.0.0->kapre) (23.2)\n",
      "Requirement already satisfied: protobuf!=4.21.0,!=4.21.1,!=4.21.2,!=4.21.3,!=4.21.4,!=4.21.5,<5.0.0dev,>=3.20.3 in /Users/sujaykumar/miniconda3/envs/tensorflow/lib/python3.10/site-packages (from tensorflow>=2.0.0->kapre) (3.20.3)\n",
      "Requirement already satisfied: requests<3,>=2.21.0 in /Users/sujaykumar/miniconda3/envs/tensorflow/lib/python3.10/site-packages (from tensorflow>=2.0.0->kapre) (2.31.0)\n",
      "Requirement already satisfied: setuptools in /Users/sujaykumar/miniconda3/envs/tensorflow/lib/python3.10/site-packages (from tensorflow>=2.0.0->kapre) (68.2.2)\n",
      "Requirement already satisfied: six>=1.12.0 in /Users/sujaykumar/miniconda3/envs/tensorflow/lib/python3.10/site-packages (from tensorflow>=2.0.0->kapre) (1.16.0)\n",
      "Requirement already satisfied: termcolor>=1.1.0 in /Users/sujaykumar/miniconda3/envs/tensorflow/lib/python3.10/site-packages (from tensorflow>=2.0.0->kapre) (2.3.0)\n",
      "Requirement already satisfied: wrapt>=1.11.0 in /Users/sujaykumar/miniconda3/envs/tensorflow/lib/python3.10/site-packages (from tensorflow>=2.0.0->kapre) (1.14.1)\n",
      "Requirement already satisfied: grpcio<2.0,>=1.24.3 in /Users/sujaykumar/miniconda3/envs/tensorflow/lib/python3.10/site-packages (from tensorflow>=2.0.0->kapre) (1.57.0)\n",
      "Requirement already satisfied: tensorboard<2.17,>=2.16 in /Users/sujaykumar/miniconda3/envs/tensorflow/lib/python3.10/site-packages (from tensorflow>=2.0.0->kapre) (2.16.2)\n",
      "Requirement already satisfied: keras>=3.0.0 in /Users/sujaykumar/miniconda3/envs/tensorflow/lib/python3.10/site-packages (from tensorflow>=2.0.0->kapre) (3.3.3)\n",
      "Requirement already satisfied: tensorflow-io-gcs-filesystem>=0.23.1 in /Users/sujaykumar/miniconda3/envs/tensorflow/lib/python3.10/site-packages (from tensorflow>=2.0.0->kapre) (0.34.0)\n",
      "Requirement already satisfied: wheel<1.0,>=0.23.0 in /Users/sujaykumar/.local/lib/python3.10/site-packages (from astunparse>=1.6.0->tensorflow>=2.0.0->kapre) (0.41.3)\n",
      "Requirement already satisfied: rich in /Users/sujaykumar/miniconda3/envs/tensorflow/lib/python3.10/site-packages (from keras>=3.0.0->tensorflow>=2.0.0->kapre) (13.7.0)\n",
      "Requirement already satisfied: namex in /Users/sujaykumar/miniconda3/envs/tensorflow/lib/python3.10/site-packages (from keras>=3.0.0->tensorflow>=2.0.0->kapre) (0.0.7)\n",
      "Requirement already satisfied: optree in /Users/sujaykumar/miniconda3/envs/tensorflow/lib/python3.10/site-packages (from keras>=3.0.0->tensorflow>=2.0.0->kapre) (0.10.0)\n",
      "Requirement already satisfied: llvmlite<0.42,>=0.41.0dev0 in /Users/sujaykumar/miniconda3/envs/tensorflow/lib/python3.10/site-packages (from numba>=0.51.0->librosa>=0.7.2->kapre) (0.41.1)\n",
      "Requirement already satisfied: platformdirs>=2.5.0 in /Users/sujaykumar/miniconda3/envs/tensorflow/lib/python3.10/site-packages (from pooch>=1.0->librosa>=0.7.2->kapre) (3.11.0)\n",
      "Requirement already satisfied: charset-normalizer<4,>=2 in /Users/sujaykumar/miniconda3/envs/tensorflow/lib/python3.10/site-packages (from requests<3,>=2.21.0->tensorflow>=2.0.0->kapre) (3.2.0)\n",
      "Requirement already satisfied: idna<4,>=2.5 in /Users/sujaykumar/miniconda3/envs/tensorflow/lib/python3.10/site-packages (from requests<3,>=2.21.0->tensorflow>=2.0.0->kapre) (3.4)\n",
      "Requirement already satisfied: urllib3<3,>=1.21.1 in /Users/sujaykumar/miniconda3/envs/tensorflow/lib/python3.10/site-packages (from requests<3,>=2.21.0->tensorflow>=2.0.0->kapre) (1.26.16)\n",
      "Requirement already satisfied: certifi>=2017.4.17 in /Users/sujaykumar/miniconda3/envs/tensorflow/lib/python3.10/site-packages (from requests<3,>=2.21.0->tensorflow>=2.0.0->kapre) (2023.11.17)\n",
      "Requirement already satisfied: threadpoolctl>=2.0.0 in /Users/sujaykumar/miniconda3/envs/tensorflow/lib/python3.10/site-packages (from scikit-learn>=0.20.0->librosa>=0.7.2->kapre) (3.2.0)\n",
      "Requirement already satisfied: cffi>=1.0 in /Users/sujaykumar/miniconda3/envs/tensorflow/lib/python3.10/site-packages (from soundfile>=0.12.1->librosa>=0.7.2->kapre) (1.16.0)\n",
      "Requirement already satisfied: markdown>=2.6.8 in /Users/sujaykumar/miniconda3/envs/tensorflow/lib/python3.10/site-packages (from tensorboard<2.17,>=2.16->tensorflow>=2.0.0->kapre) (3.4.4)\n",
      "Requirement already satisfied: tensorboard-data-server<0.8.0,>=0.7.0 in /Users/sujaykumar/miniconda3/envs/tensorflow/lib/python3.10/site-packages (from tensorboard<2.17,>=2.16->tensorflow>=2.0.0->kapre) (0.7.1)\n",
      "Requirement already satisfied: werkzeug>=1.0.1 in /Users/sujaykumar/miniconda3/envs/tensorflow/lib/python3.10/site-packages (from tensorboard<2.17,>=2.16->tensorflow>=2.0.0->kapre) (3.0.3)\n",
      "Requirement already satisfied: pycparser in /Users/sujaykumar/miniconda3/envs/tensorflow/lib/python3.10/site-packages (from cffi>=1.0->soundfile>=0.12.1->librosa>=0.7.2->kapre) (2.21)\n",
      "Requirement already satisfied: MarkupSafe>=2.1.1 in /Users/sujaykumar/miniconda3/envs/tensorflow/lib/python3.10/site-packages (from werkzeug>=1.0.1->tensorboard<2.17,>=2.16->tensorflow>=2.0.0->kapre) (2.1.3)\n",
      "Requirement already satisfied: markdown-it-py>=2.2.0 in /Users/sujaykumar/miniconda3/envs/tensorflow/lib/python3.10/site-packages (from rich->keras>=3.0.0->tensorflow>=2.0.0->kapre) (3.0.0)\n",
      "Requirement already satisfied: pygments<3.0.0,>=2.13.0 in /Users/sujaykumar/miniconda3/envs/tensorflow/lib/python3.10/site-packages (from rich->keras>=3.0.0->tensorflow>=2.0.0->kapre) (2.16.1)\n",
      "Requirement already satisfied: mdurl~=0.1 in /Users/sujaykumar/miniconda3/envs/tensorflow/lib/python3.10/site-packages (from markdown-it-py>=2.2.0->rich->keras>=3.0.0->tensorflow>=2.0.0->kapre) (0.1.2)\n",
      "Building wheels for collected packages: kapre\n",
      "  Building wheel for kapre (pyproject.toml) ... \u001b[?25ldone\n",
      "\u001b[?25h  Created wheel for kapre: filename=kapre-0.3.7-py3-none-any.whl size=29603 sha256=538e17190834a8eac823946c0cb879603b24a5d95eaf442548ad29c4d6653a4b\n",
      "  Stored in directory: /Users/sujaykumar/Library/Caches/pip/wheels/3e/54/f9/37e9f36590a5431dc207f7dc0eb2e607ff8958d5728e45ef58\n",
      "Successfully built kapre\n",
      "Installing collected packages: kapre\n",
      "Successfully installed kapre-0.3.7\n"
     ]
    }
   ],
   "source": []
  },
  {
   "cell_type": "code",
   "execution_count": null,
   "metadata": {},
   "outputs": [],
   "source": []
  }
 ],
 "metadata": {
  "kernelspec": {
   "display_name": "tensorflow",
   "language": "python",
   "name": "python3"
  },
  "language_info": {
   "codemirror_mode": {
    "name": "ipython",
    "version": 3
   },
   "file_extension": ".py",
   "mimetype": "text/x-python",
   "name": "python",
   "nbconvert_exporter": "python",
   "pygments_lexer": "ipython3",
   "version": "3.10.13"
  }
 },
 "nbformat": 4,
 "nbformat_minor": 2
}
